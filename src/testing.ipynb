{
 "cells": [
  {
   "cell_type": "code",
   "execution_count": 5,
   "metadata": {},
   "outputs": [
    {
     "name": "stderr",
     "output_type": "stream",
     "text": [
      "usage: ipykernel_launcher.py [-h] [--config CONFIG]\n",
      "ipykernel_launcher.py: error: unrecognized arguments: --f=/Users/ragheed/Library/Jupyter/runtime/kernel-v2-20743XxL2sA1gKdj4.json\n"
     ]
    },
    {
     "ename": "SystemExit",
     "evalue": "2",
     "output_type": "error",
     "traceback": [
      "An exception has occurred, use %tb to see the full traceback.\n",
      "\u001b[0;31mSystemExit\u001b[0m\u001b[0;31m:\u001b[0m 2\n"
     ]
    }
   ],
   "source": [
    "# excitations main\n",
    "\n",
    "import numpy as np\n",
    "import os\n",
    "import utils\n",
    "from grid import Grid\n",
    "from gs import groundstate\n",
    "from exc import excitations\n",
    "from vert import vertices\n",
    "from plotting import plot2D, plot_cns, plot_omega0\n",
    "import matplotlib.pyplot as plt\n",
    "\n",
    "\n",
    "def main():\n",
    "    args = utils.parse_args()\n",
    "\n",
    "    output_dir = utils.create_output_dir()\n",
    "\n",
    "    config = utils.read_config(args.config)\n",
    "\n",
    "    Lx = config[\"grid\"][\"Lx\"]\n",
    "    Ly = config[\"grid\"][\"Ly\"]\n",
    "    max_iter = config[\"max_iter_psi\"]\n",
    "    dJUs = np.arange(**config[\"physics\"][\"dJU\"])\n",
    "    N = config[\"grid\"][\"N\"]\n",
    "    muU = eval(config[\"physics\"][\"Mu\"])\n",
    "\n",
    "    grid = Grid(Lx, Ly)\n",
    "\n",
    "    omega0s = np.zeros(len(dJUs))\n",
    "    omega1s = np.zeros(len(dJUs))\n",
    "    omega2s = np.zeros(len(dJUs))\n",
    "    omegas = np.zeros((len(dJUs), 3))\n",
    "    for count in range(len(dJUs)):\n",
    "        dJU = dJUs[count]\n",
    "        gs = groundstate(max_iter, N, dJU, muU)\n",
    "        cns = gs.cns()\n",
    "\n",
    "        exc = excitations(grid, gs, cns)\n",
    "        uks, vks, omegaklambda = exc.calculate_matrices()\n",
    "        vert = vertices(grid, gs, uks, vks, cns, gs.n0)\n",
    "        omega0s[count] = omegaklambda[1][5][5]\n",
    "        omega1s[count] = omegaklambda[2][5][5]\n",
    "        omega2s[count] = omegaklambda[3][5][5]\n",
    "    omegas[:, 0] = omega0s\n",
    "    omegas[:, 1] = omega1s\n",
    "    omegas[:, 2] = omega2s\n",
    "    # plot_omega0(\n",
    "    #     omegas,\n",
    "    #     r\"$2\\delta J/U$\",\n",
    "    #     r\"$\\omega_{\\lambda}(|\\vec{k}| = 0)$\", show=True\n",
    "    # )\n",
    "    plt.plot(dJUs, omega0s, label=r\"$\\omega_{0}$\")\n",
    "    plt.show()\n",
    "\n",
    "\n",
    "if __name__ == \"__main__\":\n",
    "    main()\n"
   ]
  }
 ],
 "metadata": {
  "kernelspec": {
   "display_name": "boselattice",
   "language": "python",
   "name": "python3"
  },
  "language_info": {
   "codemirror_mode": {
    "name": "ipython",
    "version": 3
   },
   "file_extension": ".py",
   "mimetype": "text/x-python",
   "name": "python",
   "nbconvert_exporter": "python",
   "pygments_lexer": "ipython3",
   "version": "3.12.0"
  }
 },
 "nbformat": 4,
 "nbformat_minor": 2
}
