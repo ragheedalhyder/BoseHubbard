{
 "cells": [
  {
   "cell_type": "code",
   "execution_count": 5,
   "metadata": {},
   "outputs": [
    {
     "name": "stderr",
     "output_type": "stream",
     "text": [
      "usage: ipykernel_launcher.py [-h] [--config CONFIG]\n",
      "ipykernel_launcher.py: error: unrecognized arguments: --f=/Users/ragheed/Library/Jupyter/runtime/kernel-v2-20743XxL2sA1gKdj4.json\n"
     ]
    },
    {
     "ename": "SystemExit",
     "evalue": "2",
     "output_type": "error",
     "traceback": [
      "An exception has occurred, use %tb to see the full traceback.\n",
      "\u001b[0;31mSystemExit\u001b[0m\u001b[0;31m:\u001b[0m 2\n"
     ]
    }
   ],
   "source": [
    "import numpy as np\n",
    "import os\n",
    "import utils\n",
    "from grid import Grid\n",
    "from gs import groundstate\n",
    "from exc import excitations\n",
    "from plotting import plot2D, plot_cns\n",
    "import matplotlib.pyplot as plt\n",
    "\n",
    "\n",
    "def main():\n",
    "    args = utils.parse_args()\n",
    "\n",
    "    output_dir = utils.create_output_dir()\n",
    "\n",
    "    config = utils.read_config(args.config)\n",
    "\n",
    "    Lx = config[\"grid\"][\"Lx\"]\n",
    "    Ly = config[\"grid\"][\"Ly\"]\n",
    "    max_iter = config[\"max_iter_psi\"]\n",
    "    dJUs = np.arange(**config[\"physics\"][\"dJU\"])\n",
    "    N = config[\"grid\"][\"N\"]\n",
    "    muU = eval(config[\"physics\"][\"Mu\"])\n",
    "\n",
    "    grid = Grid(Lx, Ly)\n",
    "\n",
    "    omega0s = np.zeros(len(dJUs))\n",
    "    omega1s = np.zeros(len(dJUs))\n",
    "    omega2s = np.zeros(len(dJUs))\n",
    "\n",
    "    for count in range(len(dJUs)):\n",
    "        dJU = dJUs[count]\n",
    "        gs = groundstate(max_iter, N, dJU, muU)\n",
    "        cns = gs.cns()\n",
    "        # print(\"cns = \", cns)\n",
    "        psi0 = gs.psi0(cns)\n",
    "        # print(\"psi0 = \", psi0)\n",
    "        exc = excitations(grid, gs, cns)\n",
    "        uks, vks, omegaklambda = exc.calculate_matrices()\n",
    "        # print(\"omegaklambda = \", omegaklambda)\n",
    "        omega0s[count] = omegaklambda[1][5][5]\n",
    "        omega1s[count] = omegaklambda[2][5][5]\n",
    "        omega2s[count] = omegaklambda[3][5][5]\n",
    "    plt.plot(dJUs, omega0s, label=r\"$\\omega_0$\")\n",
    "    plt.plot(dJUs, omega1s, label=r\"$\\omega_1$\")\n",
    "    plt.plot(dJUs, omega2s, label=r\"$\\omega_2$\")\n",
    "    plt.legend()\n",
    "    plt.xlabel(r\"$\\Delta J/U$\")\n",
    "    plt.ylabel(r\"$\\omega$\")\n",
    "    plt.show()\n",
    "\n",
    "    # omega0U = gs.omega0U(cns)\n",
    "    \n",
    "    # n0 = gs.n0(cns)\n",
    "\n",
    "    # plt.plot(cns)\n",
    "    # plt.xlim(0, 70)\n",
    "    # plt.show()\n",
    "    # psi0 = psi0(cns, N)\n",
    "    # n0 = n0(cns, N)\n",
    "    # omega0U = omega0(cns, N, dJU, muU, psi0)\n",
    "\n",
    "    # n0s[count] = n0\n",
    "    # omega0U = - 2 * dJU * psi0 * psi0 + omega0U\n",
    "    # for dJU in dJUs:\n",
    "    #     cns = psi(config[\"max_iter_psi\"], config[\"grid\"][\"N\"], 0.5, eval(config[\"physics\"][\"Mu\"]))\n",
    "    #     cnslist.append(cns)\n",
    "\n",
    "    # plot_cns(cnslist, r'$n$', r'$\\bar{c}_n$', os.path.join(output_dir, \"csn.png\") )\n",
    "\n",
    "\n",
    "if __name__ == \"__main__\":\n",
    "    main()\n"
   ]
  }
 ],
 "metadata": {
  "kernelspec": {
   "display_name": "boselattice",
   "language": "python",
   "name": "python3"
  },
  "language_info": {
   "codemirror_mode": {
    "name": "ipython",
    "version": 3
   },
   "file_extension": ".py",
   "mimetype": "text/x-python",
   "name": "python",
   "nbconvert_exporter": "python",
   "pygments_lexer": "ipython3",
   "version": "3.12.0"
  }
 },
 "nbformat": 4,
 "nbformat_minor": 2
}
